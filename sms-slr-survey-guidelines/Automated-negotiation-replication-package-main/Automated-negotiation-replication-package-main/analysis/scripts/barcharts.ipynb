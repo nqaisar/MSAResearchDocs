{
  "nbformat": 4,
  "nbformat_minor": 0,
  "metadata": {
    "colab": {
      "provenance": []
    },
    "kernelspec": {
      "name": "python3",
      "display_name": "Python 3"
    },
    "language_info": {
      "name": "python"
    }
  },
  "cells": [
    {
      "cell_type": "code",
      "execution_count": 12,
      "metadata": {
        "id": "ODxzQhtZCpif",
        "colab": {
          "base_uri": "https://localhost:8080/"
        },
        "outputId": "10374573-cc37-4b80-a701-1e162874ceb2"
      },
      "outputs": [
        {
          "output_type": "stream",
          "name": "stdout",
          "text": [
            "Drive already mounted at /content/drive; to attempt to forcibly remount, call drive.mount(\"/content/drive\", force_remount=True).\n"
          ]
        }
      ],
      "source": [
        "import numpy as np\n",
        "import pandas as pd\n",
        "import seaborn as sns\n",
        "import matplotlib.pyplot as plt\n",
        "from PyPDF2 import PdfMerger\n",
        "from google.colab import drive\n",
        "drive.mount('/content/drive')"
      ]
    },
    {
      "cell_type": "code",
      "source": [
        "df = pd.read_csv(\"/content/drive/MyDrive/Negotiation Paper/year plot.csv\")\n"
      ],
      "metadata": {
        "id": "m-9N3nreGTiA"
      },
      "execution_count": 13,
      "outputs": []
    },
    {
      "cell_type": "code",
      "source": [
        "ax = sns.barplot(x=\"Year\", y=\"No. of papers published\", data=df, palette=\"flare\")\n",
        "for p, label in zip(ax.patches, df[\"No. of papers published\"]):\n",
        "    if label!=0:\n",
        "      ax.annotate(label, (p.get_x(), p.get_height()+0.08))\n",
        "ax.grid(False)\n",
        "\n",
        "\n",
        "plt.xticks(rotation = 90)\n",
        "plt.savefig('year.pdf')"
      ],
      "metadata": {
        "id": "YfieatN2C0T2",
        "colab": {
          "base_uri": "https://localhost:8080/",
          "height": 295
        },
        "outputId": "ae827908-6af5-4b91-ada2-af6ed45899c1"
      },
      "execution_count": 14,
      "outputs": [
        {
          "output_type": "display_data",
          "data": {
            "text/plain": [
              "<Figure size 432x288 with 1 Axes>"
            ],
            "image/png": "[encoded data removed]"
          },
          "metadata": {
            "needs_background": "light"
          }
        }
      ]
    },
    {
      "cell_type": "code",
      "source": [
        "df1 = pd.read_csv(\"/content/drive/MyDrive/Negotiation Paper/venue.csv\")"
      ],
      "metadata": {
        "id": "3asCuk6KC2DT"
      },
      "execution_count": 15,
      "outputs": []
    },
    {
      "cell_type": "code",
      "source": [
        "#sns.set_theme(style=\"whitegrid\")\n",
        "ax = sns.barplot(x=\"No. of papers published\", y=\"Venue\",  data=df1, palette=\"flare\")\n",
        "#ax.grid(False)\n",
        "for p in ax.patches:\n",
        "    width = p.get_width()\n",
        "    plt.text(0.75+p.get_width(), p.get_y()+0.55*p.get_height(),\n",
        "             int(width),\n",
        "             ha='center', va='center')\n",
        "plt.savefig('venue.pdf')"
      ],
      "metadata": {
        "id": "leQ_YUYhC33S",
        "colab": {
          "base_uri": "https://localhost:8080/",
          "height": 279
        },
        "outputId": "3379d213-1b4b-491a-f33e-f799e528a7ca"
      },
      "execution_count": 16,
      "outputs": [
        {
          "output_type": "display_data",
          "data": {
            "text/plain": [
              "<Figure size 432x288 with 1 Axes>"
            ],
            "image/png": "[encoded data removed]"
          },
          "metadata": {
            "needs_background": "light"
          }
        }
      ]
    },
    {
      "cell_type": "code",
      "source": [
        "pdfs = ['year.pdf', 'venue.pdf']\n",
        "\n",
        "merger = PdfMerger()\n",
        "\n",
        "for pdf in pdfs:\n",
        "    merger.append(pdf)\n",
        "\n",
        "merger.write(\"barcharts.pdf\")\n",
        "merger.close()"
      ],
      "metadata": {
        "id": "Yw1gwVNakZU7"
      },
      "execution_count": 18,
      "outputs": []
    }
  ]
}